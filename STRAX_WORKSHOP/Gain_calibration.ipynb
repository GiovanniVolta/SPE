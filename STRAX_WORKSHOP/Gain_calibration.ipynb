{
 "cells": [
  {
   "cell_type": "markdown",
   "metadata": {},
   "source": [
    "# Compute Gain"
   ]
  },
  {
   "cell_type": "code",
   "execution_count": 2,
   "metadata": {},
   "outputs": [],
   "source": [
    "import numpy as np\n",
    "from numba import njit\n",
    "import pandas as pd\n",
    "from tqdm import tqdm\n",
    "pd.options.display.max_colwidth = 100\n",
    "import matplotlib.pyplot as plt\n",
    "%matplotlib inline"
   ]
  },
  {
   "cell_type": "code",
   "execution_count": 3,
   "metadata": {},
   "outputs": [],
   "source": [
    "from contextlib import contextmanager\n",
    "@contextmanager\n",
    "def initiate_plot(dimx=24, dimy=9):\n",
    "    plt.rcParams['figure.figsize'] = (dimx, dimy)\n",
    "    global fig; fig = plt.figure()\n",
    "    yield\n",
    "    plt.show()"
   ]
  },
  {
   "cell_type": "code",
   "execution_count": 4,
   "metadata": {},
   "outputs": [],
   "source": [
    "import straxen"
   ]
  },
  {
   "cell_type": "markdown",
   "metadata": {},
   "source": [
    "Select the Context among:\n",
    " - demo\n",
    " - xenon1t_analysis\n",
    " - nt_daq_test_analysis\n",
    " - strax_workshop_dali"
   ]
  },
  {
   "cell_type": "code",
   "execution_count": 5,
   "metadata": {},
   "outputs": [],
   "source": [
    "st = straxen.contexts.strax_workshop_dali()"
   ]
  },
  {
   "cell_type": "code",
   "execution_count": 6,
   "metadata": {
    "collapsed": false,
    "jupyter": {
     "outputs_hidden": false
    }
   },
   "outputs": [
    {
     "name": "stderr",
     "output_type": "stream",
     "text": [
      "Checking data availability: 100%|██████████| 5/5 [00:08<00:00,  1.74s/it]\n"
     ]
    },
    {
     "data": {
      "text/html": [
       "<div>\n",
       "<style scoped>\n",
       "    .dataframe tbody tr th:only-of-type {\n",
       "        vertical-align: middle;\n",
       "    }\n",
       "\n",
       "    .dataframe tbody tr th {\n",
       "        vertical-align: top;\n",
       "    }\n",
       "\n",
       "    .dataframe thead th {\n",
       "        text-align: right;\n",
       "    }\n",
       "</style>\n",
       "<table border=\"1\" class=\"dataframe\">\n",
       "  <thead>\n",
       "    <tr style=\"text-align: right;\">\n",
       "      <th></th>\n",
       "      <th>comments</th>\n",
       "      <th>detector</th>\n",
       "      <th>end</th>\n",
       "      <th>mode</th>\n",
       "      <th>name</th>\n",
       "      <th>number</th>\n",
       "      <th>processor.DEFAULT.drift_velocity_liquid</th>\n",
       "      <th>processor.DEFAULT.electron_lifetime_liquid</th>\n",
       "      <th>processor.DEFAULT.gains</th>\n",
       "      <th>processor.NeuralNet.PosRecNeuralNet.neural_net_file</th>\n",
       "      <th>...</th>\n",
       "      <th>trigger.total_event_duration</th>\n",
       "      <th>trigger.trigger_monitor_data_format_version</th>\n",
       "      <th>trigger.trigger_monitor_data_location</th>\n",
       "      <th>trigger.truncated_events</th>\n",
       "      <th>user</th>\n",
       "      <th>records_available</th>\n",
       "      <th>event_info_available</th>\n",
       "      <th>events_available</th>\n",
       "      <th>peaks_available</th>\n",
       "      <th>raw_records_available</th>\n",
       "    </tr>\n",
       "  </thead>\n",
       "  <tbody>\n",
       "    <tr>\n",
       "      <th>41</th>\n",
       "      <td>[{'text': 'LED Calibration step 0 #gain_step0', 'date': 2018-02-19 09:52:13+00:00, 'user': 'moli...</td>\n",
       "      <td>tpc</td>\n",
       "      <td>2018-02-19 10:00:16+00:00</td>\n",
       "      <td>LED_3mus_stable</td>\n",
       "      <td>180219_0952</td>\n",
       "      <td>16979</td>\n",
       "      <td>0.000133</td>\n",
       "      <td>NaN</td>\n",
       "      <td>[1, 1, 1, 1, 1, 1, 1, 1, 1, 1, 1, 1, 1, 1, 1, 1, 1, 1, 1, 1, 1, 1, 1, 1, 1, 1, 1, 1, 1, 1, 1, 1,...</td>\n",
       "      <td>NaN</td>\n",
       "      <td>...</td>\n",
       "      <td>2.157727e+10</td>\n",
       "      <td>2.0</td>\n",
       "      <td>mongodb://gw:27018/trigger_monitor</td>\n",
       "      <td>0.0</td>\n",
       "      <td>molinario</td>\n",
       "      <td>False</td>\n",
       "      <td>False</td>\n",
       "      <td>False</td>\n",
       "      <td>False</td>\n",
       "      <td>True</td>\n",
       "    </tr>\n",
       "    <tr>\n",
       "      <th>42</th>\n",
       "      <td>[{'text': 'LED Calibration step 1 #gain_step1', 'date': 2018-02-19 10:01:41+00:00, 'user': 'moli...</td>\n",
       "      <td>tpc</td>\n",
       "      <td>2018-02-19 10:09:44+00:00</td>\n",
       "      <td>LED_3mus_stable</td>\n",
       "      <td>180219_1001</td>\n",
       "      <td>16980</td>\n",
       "      <td>0.000133</td>\n",
       "      <td>NaN</td>\n",
       "      <td>[1, 1, 1, 1, 1, 1, 1, 1, 1, 1, 1, 1, 1, 1, 1, 1, 1, 1, 1, 1, 1, 1, 1, 1, 1, 1, 1, 1, 1, 1, 1, 1,...</td>\n",
       "      <td>NaN</td>\n",
       "      <td>...</td>\n",
       "      <td>2.158277e+10</td>\n",
       "      <td>2.0</td>\n",
       "      <td>mongodb://gw:27018/trigger_monitor</td>\n",
       "      <td>0.0</td>\n",
       "      <td>molinario</td>\n",
       "      <td>False</td>\n",
       "      <td>False</td>\n",
       "      <td>False</td>\n",
       "      <td>False</td>\n",
       "      <td>True</td>\n",
       "    </tr>\n",
       "    <tr>\n",
       "      <th>43</th>\n",
       "      <td>[{'text': 'LED Calibration step 2 #gain_step2', 'date': 2018-02-19 10:11:06+00:00, 'user': 'moli...</td>\n",
       "      <td>tpc</td>\n",
       "      <td>2018-02-19 10:19:09+00:00</td>\n",
       "      <td>LED_3mus_stable</td>\n",
       "      <td>180219_1011</td>\n",
       "      <td>16981</td>\n",
       "      <td>0.000133</td>\n",
       "      <td>NaN</td>\n",
       "      <td>[1, 1, 1, 1, 1, 1, 1, 1, 1, 1, 1, 1, 1, 1, 1, 1, 1, 1, 1, 1, 1, 1, 1, 1, 1, 1, 1, 1, 1, 1, 1, 1,...</td>\n",
       "      <td>NaN</td>\n",
       "      <td>...</td>\n",
       "      <td>2.141546e+10</td>\n",
       "      <td>2.0</td>\n",
       "      <td>mongodb://gw:27018/trigger_monitor</td>\n",
       "      <td>0.0</td>\n",
       "      <td>molinario</td>\n",
       "      <td>False</td>\n",
       "      <td>False</td>\n",
       "      <td>False</td>\n",
       "      <td>False</td>\n",
       "      <td>True</td>\n",
       "    </tr>\n",
       "    <tr>\n",
       "      <th>44</th>\n",
       "      <td>[{'text': 'LED Calibration step 3 #gain_step3', 'date': 2018-02-19 10:21:18+00:00, 'user': 'moli...</td>\n",
       "      <td>tpc</td>\n",
       "      <td>2018-02-19 10:29:22+00:00</td>\n",
       "      <td>LED_3mus_stable</td>\n",
       "      <td>180219_1021</td>\n",
       "      <td>16982</td>\n",
       "      <td>0.000133</td>\n",
       "      <td>NaN</td>\n",
       "      <td>[1, 1, 1, 1, 1, 1, 1, 1, 1, 1, 1, 1, 1, 1, 1, 1, 1, 1, 1, 1, 1, 1, 1, 1, 1, 1, 1, 1, 1, 1, 1, 1,...</td>\n",
       "      <td>NaN</td>\n",
       "      <td>...</td>\n",
       "      <td>2.160103e+10</td>\n",
       "      <td>2.0</td>\n",
       "      <td>mongodb://gw:27018/trigger_monitor</td>\n",
       "      <td>0.0</td>\n",
       "      <td>molinario</td>\n",
       "      <td>False</td>\n",
       "      <td>False</td>\n",
       "      <td>False</td>\n",
       "      <td>False</td>\n",
       "      <td>True</td>\n",
       "    </tr>\n",
       "    <tr>\n",
       "      <th>45</th>\n",
       "      <td>[{'text': 'LED Calibration step 4 #gain_step4', 'date': 2018-02-19 10:31:02+00:00, 'user': 'moli...</td>\n",
       "      <td>tpc</td>\n",
       "      <td>2018-02-19 10:39:05+00:00</td>\n",
       "      <td>LED_3mus_stable</td>\n",
       "      <td>180219_1030</td>\n",
       "      <td>16983</td>\n",
       "      <td>0.000133</td>\n",
       "      <td>NaN</td>\n",
       "      <td>[1, 1, 1, 1, 1, 1, 1, 1, 1, 1, 1, 1, 1, 1, 1, 1, 1, 1, 1, 1, 1, 1, 1, 1, 1, 1, 1, 1, 1, 1, 1, 1,...</td>\n",
       "      <td>NaN</td>\n",
       "      <td>...</td>\n",
       "      <td>2.155318e+10</td>\n",
       "      <td>2.0</td>\n",
       "      <td>mongodb://gw:27018/trigger_monitor</td>\n",
       "      <td>0.0</td>\n",
       "      <td>molinario</td>\n",
       "      <td>False</td>\n",
       "      <td>False</td>\n",
       "      <td>False</td>\n",
       "      <td>False</td>\n",
       "      <td>True</td>\n",
       "    </tr>\n",
       "    <tr>\n",
       "      <th>46</th>\n",
       "      <td>[{'text': 'SPE acceptance top bulk #spe_topbulk', 'date': 2018-02-19 10:50:00+00:00, 'user': 'mo...</td>\n",
       "      <td>tpc</td>\n",
       "      <td>2018-02-19 10:58:02+00:00</td>\n",
       "      <td>LED_3mus_stable</td>\n",
       "      <td>180219_1049</td>\n",
       "      <td>16985</td>\n",
       "      <td>0.000133</td>\n",
       "      <td>NaN</td>\n",
       "      <td>[1, 1, 1, 1, 1, 1, 1, 1, 1, 1, 1, 1, 1, 1, 1, 1, 1, 1, 1, 1, 1, 1, 1, 1, 1, 1, 1, 1, 1, 1, 1, 1,...</td>\n",
       "      <td>NaN</td>\n",
       "      <td>...</td>\n",
       "      <td>2.138026e+10</td>\n",
       "      <td>2.0</td>\n",
       "      <td>mongodb://gw:27018/trigger_monitor</td>\n",
       "      <td>0.0</td>\n",
       "      <td>molinario</td>\n",
       "      <td>False</td>\n",
       "      <td>False</td>\n",
       "      <td>False</td>\n",
       "      <td>False</td>\n",
       "      <td>True</td>\n",
       "    </tr>\n",
       "    <tr>\n",
       "      <th>47</th>\n",
       "      <td>[{'text': 'SPE acceptance top ring #spe_topring', 'date': 2018-02-19 10:59:21+00:00, 'user': 'mo...</td>\n",
       "      <td>tpc</td>\n",
       "      <td>2018-02-19 11:07:24+00:00</td>\n",
       "      <td>LED_3mus_stable</td>\n",
       "      <td>180219_1059</td>\n",
       "      <td>16986</td>\n",
       "      <td>0.000133</td>\n",
       "      <td>NaN</td>\n",
       "      <td>[1, 1, 1, 1, 1, 1, 1, 1, 1, 1, 1, 1, 1, 1, 1, 1, 1, 1, 1, 1, 1, 1, 1, 1, 1, 1, 1, 1, 1, 1, 1, 1,...</td>\n",
       "      <td>NaN</td>\n",
       "      <td>...</td>\n",
       "      <td>2.123550e+10</td>\n",
       "      <td>2.0</td>\n",
       "      <td>mongodb://gw:27018/trigger_monitor</td>\n",
       "      <td>0.0</td>\n",
       "      <td>molinario</td>\n",
       "      <td>False</td>\n",
       "      <td>False</td>\n",
       "      <td>False</td>\n",
       "      <td>False</td>\n",
       "      <td>True</td>\n",
       "    </tr>\n",
       "    <tr>\n",
       "      <th>48</th>\n",
       "      <td>[{'text': '#Afterpulse mode 0', 'date': 2018-02-19 11:10:28+00:00, 'user': 'molinario'}]</td>\n",
       "      <td>tpc</td>\n",
       "      <td>2018-02-19 11:15:31+00:00</td>\n",
       "      <td>LED_7mus_stable</td>\n",
       "      <td>180219_1110</td>\n",
       "      <td>16987</td>\n",
       "      <td>0.000133</td>\n",
       "      <td>NaN</td>\n",
       "      <td>[1, 1, 1, 1, 1, 1, 1, 1, 1, 1, 1, 1, 1, 1, 1, 1, 1, 1, 1, 1, 1, 1, 1, 1, 1, 1, 1, 1, 1, 1, 1, 1,...</td>\n",
       "      <td>NaN</td>\n",
       "      <td>...</td>\n",
       "      <td>5.072760e+09</td>\n",
       "      <td>2.0</td>\n",
       "      <td>mongodb://gw:27018/trigger_monitor</td>\n",
       "      <td>0.0</td>\n",
       "      <td>molinario</td>\n",
       "      <td>False</td>\n",
       "      <td>False</td>\n",
       "      <td>False</td>\n",
       "      <td>False</td>\n",
       "      <td>True</td>\n",
       "    </tr>\n",
       "    <tr>\n",
       "      <th>49</th>\n",
       "      <td>[{'text': '#Afterpulse mode 1', 'date': 2018-02-19 11:16:48+00:00, 'user': 'molinario'}]</td>\n",
       "      <td>tpc</td>\n",
       "      <td>2018-02-19 11:31:50+00:00</td>\n",
       "      <td>LED_7mus_stable</td>\n",
       "      <td>180219_1116</td>\n",
       "      <td>16988</td>\n",
       "      <td>0.000133</td>\n",
       "      <td>NaN</td>\n",
       "      <td>[1, 1, 1, 1, 1, 1, 1, 1, 1, 1, 1, 1, 1, 1, 1, 1, 1, 1, 1, 1, 1, 1, 1, 1, 1, 1, 1, 1, 1, 1, 1, 1,...</td>\n",
       "      <td>NaN</td>\n",
       "      <td>...</td>\n",
       "      <td>1.511741e+10</td>\n",
       "      <td>2.0</td>\n",
       "      <td>mongodb://gw:27018/trigger_monitor</td>\n",
       "      <td>0.0</td>\n",
       "      <td>molinario</td>\n",
       "      <td>False</td>\n",
       "      <td>False</td>\n",
       "      <td>False</td>\n",
       "      <td>False</td>\n",
       "      <td>True</td>\n",
       "    </tr>\n",
       "  </tbody>\n",
       "</table>\n",
       "<p>9 rows × 174 columns</p>\n",
       "</div>"
      ],
      "text/plain": [
       "                                                                                               comments  \\\n",
       "41  [{'text': 'LED Calibration step 0 #gain_step0', 'date': 2018-02-19 09:52:13+00:00, 'user': 'moli...   \n",
       "42  [{'text': 'LED Calibration step 1 #gain_step1', 'date': 2018-02-19 10:01:41+00:00, 'user': 'moli...   \n",
       "43  [{'text': 'LED Calibration step 2 #gain_step2', 'date': 2018-02-19 10:11:06+00:00, 'user': 'moli...   \n",
       "44  [{'text': 'LED Calibration step 3 #gain_step3', 'date': 2018-02-19 10:21:18+00:00, 'user': 'moli...   \n",
       "45  [{'text': 'LED Calibration step 4 #gain_step4', 'date': 2018-02-19 10:31:02+00:00, 'user': 'moli...   \n",
       "46  [{'text': 'SPE acceptance top bulk #spe_topbulk', 'date': 2018-02-19 10:50:00+00:00, 'user': 'mo...   \n",
       "47  [{'text': 'SPE acceptance top ring #spe_topring', 'date': 2018-02-19 10:59:21+00:00, 'user': 'mo...   \n",
       "48             [{'text': '#Afterpulse mode 0', 'date': 2018-02-19 11:10:28+00:00, 'user': 'molinario'}]   \n",
       "49             [{'text': '#Afterpulse mode 1', 'date': 2018-02-19 11:16:48+00:00, 'user': 'molinario'}]   \n",
       "\n",
       "   detector                       end             mode         name  number  \\\n",
       "41      tpc 2018-02-19 10:00:16+00:00  LED_3mus_stable  180219_0952   16979   \n",
       "42      tpc 2018-02-19 10:09:44+00:00  LED_3mus_stable  180219_1001   16980   \n",
       "43      tpc 2018-02-19 10:19:09+00:00  LED_3mus_stable  180219_1011   16981   \n",
       "44      tpc 2018-02-19 10:29:22+00:00  LED_3mus_stable  180219_1021   16982   \n",
       "45      tpc 2018-02-19 10:39:05+00:00  LED_3mus_stable  180219_1030   16983   \n",
       "46      tpc 2018-02-19 10:58:02+00:00  LED_3mus_stable  180219_1049   16985   \n",
       "47      tpc 2018-02-19 11:07:24+00:00  LED_3mus_stable  180219_1059   16986   \n",
       "48      tpc 2018-02-19 11:15:31+00:00  LED_7mus_stable  180219_1110   16987   \n",
       "49      tpc 2018-02-19 11:31:50+00:00  LED_7mus_stable  180219_1116   16988   \n",
       "\n",
       "    processor.DEFAULT.drift_velocity_liquid  \\\n",
       "41                                 0.000133   \n",
       "42                                 0.000133   \n",
       "43                                 0.000133   \n",
       "44                                 0.000133   \n",
       "45                                 0.000133   \n",
       "46                                 0.000133   \n",
       "47                                 0.000133   \n",
       "48                                 0.000133   \n",
       "49                                 0.000133   \n",
       "\n",
       "    processor.DEFAULT.electron_lifetime_liquid  \\\n",
       "41                                         NaN   \n",
       "42                                         NaN   \n",
       "43                                         NaN   \n",
       "44                                         NaN   \n",
       "45                                         NaN   \n",
       "46                                         NaN   \n",
       "47                                         NaN   \n",
       "48                                         NaN   \n",
       "49                                         NaN   \n",
       "\n",
       "                                                                                processor.DEFAULT.gains  \\\n",
       "41  [1, 1, 1, 1, 1, 1, 1, 1, 1, 1, 1, 1, 1, 1, 1, 1, 1, 1, 1, 1, 1, 1, 1, 1, 1, 1, 1, 1, 1, 1, 1, 1,...   \n",
       "42  [1, 1, 1, 1, 1, 1, 1, 1, 1, 1, 1, 1, 1, 1, 1, 1, 1, 1, 1, 1, 1, 1, 1, 1, 1, 1, 1, 1, 1, 1, 1, 1,...   \n",
       "43  [1, 1, 1, 1, 1, 1, 1, 1, 1, 1, 1, 1, 1, 1, 1, 1, 1, 1, 1, 1, 1, 1, 1, 1, 1, 1, 1, 1, 1, 1, 1, 1,...   \n",
       "44  [1, 1, 1, 1, 1, 1, 1, 1, 1, 1, 1, 1, 1, 1, 1, 1, 1, 1, 1, 1, 1, 1, 1, 1, 1, 1, 1, 1, 1, 1, 1, 1,...   \n",
       "45  [1, 1, 1, 1, 1, 1, 1, 1, 1, 1, 1, 1, 1, 1, 1, 1, 1, 1, 1, 1, 1, 1, 1, 1, 1, 1, 1, 1, 1, 1, 1, 1,...   \n",
       "46  [1, 1, 1, 1, 1, 1, 1, 1, 1, 1, 1, 1, 1, 1, 1, 1, 1, 1, 1, 1, 1, 1, 1, 1, 1, 1, 1, 1, 1, 1, 1, 1,...   \n",
       "47  [1, 1, 1, 1, 1, 1, 1, 1, 1, 1, 1, 1, 1, 1, 1, 1, 1, 1, 1, 1, 1, 1, 1, 1, 1, 1, 1, 1, 1, 1, 1, 1,...   \n",
       "48  [1, 1, 1, 1, 1, 1, 1, 1, 1, 1, 1, 1, 1, 1, 1, 1, 1, 1, 1, 1, 1, 1, 1, 1, 1, 1, 1, 1, 1, 1, 1, 1,...   \n",
       "49  [1, 1, 1, 1, 1, 1, 1, 1, 1, 1, 1, 1, 1, 1, 1, 1, 1, 1, 1, 1, 1, 1, 1, 1, 1, 1, 1, 1, 1, 1, 1, 1,...   \n",
       "\n",
       "   processor.NeuralNet.PosRecNeuralNet.neural_net_file  ...  \\\n",
       "41                                                 NaN  ...   \n",
       "42                                                 NaN  ...   \n",
       "43                                                 NaN  ...   \n",
       "44                                                 NaN  ...   \n",
       "45                                                 NaN  ...   \n",
       "46                                                 NaN  ...   \n",
       "47                                                 NaN  ...   \n",
       "48                                                 NaN  ...   \n",
       "49                                                 NaN  ...   \n",
       "\n",
       "   trigger.total_event_duration trigger.trigger_monitor_data_format_version  \\\n",
       "41                 2.157727e+10                                         2.0   \n",
       "42                 2.158277e+10                                         2.0   \n",
       "43                 2.141546e+10                                         2.0   \n",
       "44                 2.160103e+10                                         2.0   \n",
       "45                 2.155318e+10                                         2.0   \n",
       "46                 2.138026e+10                                         2.0   \n",
       "47                 2.123550e+10                                         2.0   \n",
       "48                 5.072760e+09                                         2.0   \n",
       "49                 1.511741e+10                                         2.0   \n",
       "\n",
       "    trigger.trigger_monitor_data_location trigger.truncated_events       user  \\\n",
       "41     mongodb://gw:27018/trigger_monitor                      0.0  molinario   \n",
       "42     mongodb://gw:27018/trigger_monitor                      0.0  molinario   \n",
       "43     mongodb://gw:27018/trigger_monitor                      0.0  molinario   \n",
       "44     mongodb://gw:27018/trigger_monitor                      0.0  molinario   \n",
       "45     mongodb://gw:27018/trigger_monitor                      0.0  molinario   \n",
       "46     mongodb://gw:27018/trigger_monitor                      0.0  molinario   \n",
       "47     mongodb://gw:27018/trigger_monitor                      0.0  molinario   \n",
       "48     mongodb://gw:27018/trigger_monitor                      0.0  molinario   \n",
       "49     mongodb://gw:27018/trigger_monitor                      0.0  molinario   \n",
       "\n",
       "   records_available event_info_available events_available  peaks_available  \\\n",
       "41             False                False            False            False   \n",
       "42             False                False            False            False   \n",
       "43             False                False            False            False   \n",
       "44             False                False            False            False   \n",
       "45             False                False            False            False   \n",
       "46             False                False            False            False   \n",
       "47             False                False            False            False   \n",
       "48             False                False            False            False   \n",
       "49             False                False            False            False   \n",
       "\n",
       "    raw_records_available  \n",
       "41                   True  \n",
       "42                   True  \n",
       "43                   True  \n",
       "44                   True  \n",
       "45                   True  \n",
       "46                   True  \n",
       "47                   True  \n",
       "48                   True  \n",
       "49                   True  \n",
       "\n",
       "[9 rows x 174 columns]"
      ]
     },
     "execution_count": 6,
     "metadata": {},
     "output_type": "execute_result"
    }
   ],
   "source": [
    "st.select_runs(run_mode='LED*')"
   ]
  },
  {
   "cell_type": "code",
   "execution_count": 7,
   "metadata": {
    "collapsed": false,
    "jupyter": {
     "outputs_hidden": false
    }
   },
   "outputs": [
    {
     "data": {
      "text/plain": [
       "9"
      ]
     },
     "execution_count": 7,
     "metadata": {},
     "output_type": "execute_result"
    }
   ],
   "source": [
    "dsets = st.select_runs(run_mode='LED*')\n",
    "len(dsets)"
   ]
  },
  {
   "cell_type": "code",
   "execution_count": 8,
   "metadata": {
    "collapsed": false,
    "jupyter": {
     "outputs_hidden": false
    }
   },
   "outputs": [
    {
     "name": "stdout",
     "output_type": "stream",
     "text": [
      "41     gain_step0,_sciencerun2_candidate\n",
      "42     gain_step1,_sciencerun2_candidate\n",
      "43     gain_step2,_sciencerun2_candidate\n",
      "44     gain_step3,_sciencerun2_candidate\n",
      "45     gain_step4,_sciencerun2_candidate\n",
      "46    spe_topbulk,_sciencerun2_candidate\n",
      "47    spe_topring,_sciencerun2_candidate\n",
      "48     Afterpulse,_sciencerun2_candidate\n",
      "49     Afterpulse,_sciencerun2_candidate\n",
      "Name: tags, dtype: object\n"
     ]
    },
    {
     "data": {
      "text/plain": [
       "Series([], Name: name, dtype: object)"
      ]
     },
     "execution_count": 8,
     "metadata": {},
     "output_type": "execute_result"
    }
   ],
   "source": [
    "#st.data_info('event_info')\n",
    "print(dsets.tags)\n",
    "dsets = dsets[(dsets.tags == 'gain*')]\n",
    "dsets.name"
   ]
  },
  {
   "cell_type": "code",
   "execution_count": 9,
   "metadata": {
    "collapsed": false,
    "jupyter": {
     "outputs_hidden": false
    }
   },
   "outputs": [
    {
     "data": {
      "text/html": [
       "<div>\n",
       "<style scoped>\n",
       "    .dataframe tbody tr th:only-of-type {\n",
       "        vertical-align: middle;\n",
       "    }\n",
       "\n",
       "    .dataframe tbody tr th {\n",
       "        vertical-align: top;\n",
       "    }\n",
       "\n",
       "    .dataframe thead th {\n",
       "        text-align: right;\n",
       "    }\n",
       "</style>\n",
       "<table border=\"1\" class=\"dataframe\">\n",
       "  <thead>\n",
       "    <tr style=\"text-align: right;\">\n",
       "      <th></th>\n",
       "      <th>Field name</th>\n",
       "      <th>Data type</th>\n",
       "      <th>Comment</th>\n",
       "    </tr>\n",
       "  </thead>\n",
       "  <tbody>\n",
       "    <tr>\n",
       "      <th>0</th>\n",
       "      <td>channel</td>\n",
       "      <td>int16</td>\n",
       "      <td>Channel/PMT number</td>\n",
       "    </tr>\n",
       "    <tr>\n",
       "      <th>1</th>\n",
       "      <td>dt</td>\n",
       "      <td>int16</td>\n",
       "      <td>Time resolution in ns</td>\n",
       "    </tr>\n",
       "    <tr>\n",
       "      <th>2</th>\n",
       "      <td>time</td>\n",
       "      <td>int64</td>\n",
       "      <td>Start time of the interval (ns since unix epoch)</td>\n",
       "    </tr>\n",
       "    <tr>\n",
       "      <th>3</th>\n",
       "      <td>length</td>\n",
       "      <td>int32</td>\n",
       "      <td>Length of the interval in samples</td>\n",
       "    </tr>\n",
       "    <tr>\n",
       "      <th>4</th>\n",
       "      <td>area</td>\n",
       "      <td>int32</td>\n",
       "      <td>Integral in ADC x samples</td>\n",
       "    </tr>\n",
       "    <tr>\n",
       "      <th>5</th>\n",
       "      <td>pulse_length</td>\n",
       "      <td>int32</td>\n",
       "      <td>Length of pulse to which the record belongs (without zero-padding)</td>\n",
       "    </tr>\n",
       "    <tr>\n",
       "      <th>6</th>\n",
       "      <td>record_i</td>\n",
       "      <td>int16</td>\n",
       "      <td>Fragment number in the pulse</td>\n",
       "    </tr>\n",
       "    <tr>\n",
       "      <th>7</th>\n",
       "      <td>baseline</td>\n",
       "      <td>float32</td>\n",
       "      <td>Baseline in ADC counts. data = int(baseline) - data_orig</td>\n",
       "    </tr>\n",
       "    <tr>\n",
       "      <th>8</th>\n",
       "      <td>reduction_level</td>\n",
       "      <td>uint8</td>\n",
       "      <td>Level of data reduction applied (strax.ReductionLevel enum)</td>\n",
       "    </tr>\n",
       "    <tr>\n",
       "      <th>9</th>\n",
       "      <td>data</td>\n",
       "      <td>('&lt;i2', (110,))</td>\n",
       "      <td>Waveform data in ADC counts above baseline</td>\n",
       "    </tr>\n",
       "  </tbody>\n",
       "</table>\n",
       "</div>"
      ],
      "text/plain": [
       "        Field name        Data type  \\\n",
       "0          channel            int16   \n",
       "1               dt            int16   \n",
       "2             time            int64   \n",
       "3           length            int32   \n",
       "4             area            int32   \n",
       "5     pulse_length            int32   \n",
       "6         record_i            int16   \n",
       "7         baseline          float32   \n",
       "8  reduction_level            uint8   \n",
       "9             data  ('<i2', (110,))   \n",
       "\n",
       "                                                              Comment  \n",
       "0                                                  Channel/PMT number  \n",
       "1                                               Time resolution in ns  \n",
       "2                    Start time of the interval (ns since unix epoch)  \n",
       "3                                   Length of the interval in samples  \n",
       "4                                           Integral in ADC x samples  \n",
       "5  Length of pulse to which the record belongs (without zero-padding)  \n",
       "6                                        Fragment number in the pulse  \n",
       "7            Baseline in ADC counts. data = int(baseline) - data_orig  \n",
       "8         Level of data reduction applied (strax.ReductionLevel enum)  \n",
       "9                          Waveform data in ADC counts above baseline  "
      ]
     },
     "execution_count": 9,
     "metadata": {},
     "output_type": "execute_result"
    }
   ],
   "source": [
    "st.data_info('raw_records')"
   ]
  },
  {
   "cell_type": "code",
   "execution_count": null,
   "metadata": {},
   "outputs": [],
   "source": [
    "#st.data_info('peaks')"
   ]
  },
  {
   "cell_type": "markdown",
   "metadata": {},
   "source": [
    "It's possible to load the data as a DataFrame or as an array. The loading takes a while."
   ]
  },
  {
   "cell_type": "code",
   "execution_count": null,
   "metadata": {
    "collapsed": false,
    "jupyter": {
     "outputs_hidden": false
    }
   },
   "outputs": [],
   "source": [
    "noise_id = '180219_0952'\n",
    "run_id = '180219_1011'\n",
    "\n",
    "noise = st.get_array(noise_id, 'raw_records', seconds_range=(0, 20))\n",
    "df = st.get_array(run_id, 'raw_records', seconds_range=(0, 20))\n",
    "type(df), df.dtype.names"
   ]
  },
  {
   "cell_type": "code",
   "execution_count": null,
   "metadata": {
    "collapsed": true,
    "jupyter": {
     "outputs_hidden": true
    }
   },
   "outputs": [],
   "source": [
    "ch_100 = df[df['channel'] == 100]"
   ]
  },
  {
   "cell_type": "code",
   "execution_count": null,
   "metadata": {
    "collapsed": true,
    "jupyter": {
     "outputs_hidden": true
    }
   },
   "outputs": [],
   "source": [
    "max_length=max(ch_100['length'])\n",
    "sum_peaks = np.zeros(max_length)\n",
    "for p in ch_100:\n",
    "    n = p['length']\n",
    "    t0 = p['time']        \n",
    "    sum_peaks[:n] += p['data'][:n] / p['dt']"
   ]
  },
  {
   "cell_type": "code",
   "execution_count": null,
   "metadata": {
    "collapsed": false,
    "jupyter": {
     "outputs_hidden": false
    }
   },
   "outputs": [],
   "source": [
    "print(max(ch_100['length']))\n",
    "plt.plot(sum_peaks)\n",
    "plt.ylabel(\"Sum waveform (PE / ns)\")\n",
    "plt.xlabel(\"Sample\")\n",
    "plt.xlim([120,200])\n",
    "#plt.yscale('log')"
   ]
  },
  {
   "cell_type": "code",
   "execution_count": null,
   "metadata": {
    "collapsed": true,
    "jupyter": {
     "outputs_hidden": true
    }
   },
   "outputs": [],
   "source": [
    "channels = np.arange(248)\n",
    "ch_bot = np.arange(127,248)\n",
    "#ch_top_in = np.arange(36,127)\n",
    "ch_top_in = np.arange(36,46)\n",
    "ch_top_out = np.arange(0,36)"
   ]
  },
  {
   "cell_type": "code",
   "execution_count": null,
   "metadata": {
    "collapsed": false,
    "jupyter": {
     "outputs_hidden": false
    }
   },
   "outputs": [],
   "source": [
    "Area = []\n",
    "Area_noise = []\n",
    "\n",
    "left = 130\n",
    "end_pos = [175, 177, 179, 181, 183, 185]\n",
    "for ch in tqdm(ch_top_in): #loop on PMT channel\n",
    "    arr_ch = df[df['channel'] == ch]\n",
    "    arr_ch_noise = noise[noise['channel'] == ch]\n",
    "\n",
    "    Area_ch = []\n",
    "    Area_noise_ch = []\n",
    "    area = 0\n",
    "    area_noise = 0\n",
    "    for right in end_pos:\n",
    "        area += arr_ch['data'][:,left:right].sum(axis=1)\n",
    "        area_noise += arr_ch_noise['data'][:,left:right].sum(axis=1)\n",
    "        print(area)\n",
    "        \n",
    "    Area_ch.append(area)\n",
    "    Area_noise_ch.append(area_noise)\n",
    "    \n",
    "    Area_ch[:] = [x/len(end_pos) for x in Area_ch]\n",
    "    Area_noise_ch[:] = [x/len(end_pos) for x in Area_noise_ch]\n",
    "    print(Area_ch)\n",
    "    \n",
    "    Area.append(Area_ch)\n",
    "    Area_noise.append(Area_noise_ch)"
   ]
  },
  {
   "cell_type": "code",
   "execution_count": null,
   "metadata": {
    "collapsed": false,
    "jupyter": {
     "outputs_hidden": false
    }
   },
   "outputs": [],
   "source": [
    "print(len(Area[0]))\n",
    "#print(arr_ch['data'][:,left:175].sum(axis=1))\n",
    "#print(arr_ch['data'][:,left:185].sum(axis=1))"
   ]
  },
  {
   "cell_type": "code",
   "execution_count": null,
   "metadata": {
    "collapsed": false,
    "jupyter": {
     "outputs_hidden": false
    }
   },
   "outputs": [],
   "source": [
    "s, b = {},{}\n",
    "\n",
    "with initiate_plot(20, 80):\n",
    "    for i, val in enumerate(tqdm(ch_top_in)):\n",
    "        ax = fig.add_subplot(20, 5, i+1)\n",
    "        plt.plot([], [], ' ', label='PMT '+str(val))\n",
    "        s[i], bins, patches = plt.hist(Area[i], bins=100, range=[-500,2000] , histtype='step', color='b', label='Signal')\n",
    "        b[i], bins, patches = plt.hist(Area_noise[i], bins=100, range=[-500,2000] , histtype='step', color='g', label='Noise')\n",
    "        #plt.hist(df[df['channel'] == val]['data'][:,left:175].sum(axis=1), bins=100, range=[0,2000] , histtype='step', color='r', label='175')\n",
    "        \n",
    "        plt.legend(frameon=False)\n",
    "        ax.set_xlabel(\"Area (ADCc)\")\n",
    "        ax.set_ylabel(\"Counts\")\n",
    "        #ax.set_xlim([0,1500])\n",
    "        #ax.set_ylim([0,1e4])\n",
    "        ax.set_yscale('log')\n",
    "        \n",
    "    plt.tight_layout()"
   ]
  },
  {
   "cell_type": "code",
   "execution_count": null,
   "metadata": {
    "collapsed": false,
    "jupyter": {
     "outputs_hidden": false
    }
   },
   "outputs": [],
   "source": [
    "#Get means and variances\n",
    "E_t, E_b, V_t, V_b = [],[],[],[]\n",
    "mids = 0.5*(bins[1:] + bins[:-1])\n",
    "\n",
    "for i, val in enumerate(tqdm(ch_top_in)):\n",
    "    mean_t = np.average(mids, weights=s[i])\n",
    "    mean_b = np.average(mids, weights=b[i])\n",
    "    E_t.append(mean_t)\n",
    "    E_b.append(mean_b)\n",
    "    V_t.append(np.average((mids - mean_t)**2, weights=s[i]))\n",
    "    V_b.append(np.average((mids - mean_b)**2, weights=b[i]))"
   ]
  },
  {
   "cell_type": "code",
   "execution_count": null,
   "metadata": {
    "collapsed": false,
    "jupyter": {
     "outputs_hidden": false
    }
   },
   "outputs": [],
   "source": [
    "print(E_t)\n",
    "print(np.sqrt(V_t))\n",
    "print(E_b)\n",
    "print(np.sqrt(V_b))"
   ]
  },
  {
   "cell_type": "code",
   "execution_count": null,
   "metadata": {
    "collapsed": true,
    "jupyter": {
     "outputs_hidden": true
    }
   },
   "outputs": [],
   "source": [
    "class HistogramsForGain(strax.Plugin):\n",
    "    \"\"\"Make histograms of signal and noise averaged over different integration lenghts\"\"\"\n",
    "\n",
    "    # Name of the data type this plugin provides\n",
    "    #provides = 'peak_classification'\n",
    "\n",
    "    # Data types this plugin requires. Note we don't specify\n",
    "    # what plugins should produce them: maybe the default PeakBasics\n",
    "    # has been replaced by another AdvancedExpertBlabla plugin?\n",
    "    depends_on = ('raw_records',)\n",
    "\n",
    "    # Numpy datatype of the output\n",
    "    dtype = []\n",
    "\n",
    "    # Version of the plugin. Increment this if you change the algorithm.\n",
    "    __version__ = '0.0.1'\n",
    "\n",
    "    def compute(self, peaks):\n",
    "        # Your code here.\n",
    "        # This function will be called several times with\n",
    "        # 'peaks' a numpy array of the datatype 'peaks'.\n",
    "        # Each time you'll see a small part of the run.\n",
    "\n",
    "        Area = []\n",
    "        Area_noise = []\n",
    "\n",
    "        left = 130\n",
    "        end_pos = [175, 177, 179, 181, 183, 185]\n",
    "        for ch in tqdm(ch_top_in): #loop on PMT channel\n",
    "            arr_ch = df[df['channel'] == ch]\n",
    "            arr_ch_noise = noise[noise['channel'] == ch]\n",
    "\n",
    "            Area_ch = []\n",
    "            Area_noise_ch = []\n",
    "            area = 0\n",
    "            area_noise = 0\n",
    "            for right in end_pos:\n",
    "                area += arr_ch['data'][:,left:right].sum(axis=1)\n",
    "                area_noise += arr_ch_noise['data'][:,left:right].sum(axis=1)\n",
    "\n",
    "            Area_ch.append(area)\n",
    "            Area_noise_ch.append(area_noise)\n",
    "\n",
    "            Area_ch[:] = [x/len(end_pos) for x in Area_ch]\n",
    "            Area_noise_ch[:] = [x/len(end_pos) for x in Area_noise_ch]\n",
    "\n",
    "            Area.append(Area_ch)\n",
    "            Area_noise.append(Area_noise_ch)\n",
    "        \n",
    "        # You have to return a numpy array of the dtype you declared above\n",
    "        # or, which is often easier, a dictionary we can transform into it\n",
    "        # (dict keys -> field names, values -> field values)\n",
    "        return dict(type=np.ones(len(peaks)))\n"
   ]
  },
  {
   "cell_type": "code",
   "execution_count": null,
   "metadata": {
    "collapsed": false,
    "jupyter": {
     "outputs_hidden": false
    }
   },
   "outputs": [],
   "source": [
    "#integrating between samples\n",
    "left, right = 130, 180\n",
    "areas = ch_100['data'][:,left:right].sum(axis=1)\n",
    "\n",
    "# Small correction for baseline, see strax issue #2\n",
    "areas += ((ch_100['baseline'] % 1) * (right - left)).round().astype(np.int)\n",
    "\n",
    "plt.hist(areas, bins=100, range=[0,2000] , histtype='step', color='b')\n",
    "\n",
    "plt.xlabel(\"Area (ADCc)\")\n",
    "plt.ylabel(\"Counts\")\n",
    "#plt.xlim([0,1000])\n",
    "#plt.ylim([1e-1,5e5])\n",
    "plt.yscale('log')"
   ]
  },
  {
   "cell_type": "markdown",
   "metadata": {},
   "source": [
    "###  Not sure what I was doing here "
   ]
  },
  {
   "cell_type": "code",
   "execution_count": null,
   "metadata": {
    "collapsed": false,
    "jupyter": {
     "outputs_hidden": false
    }
   },
   "outputs": [],
   "source": [
    "def plot_peak(p, t0=None, **kwargs):\n",
    "    n = p['length']\n",
    "    if t0 is None:\n",
    "        t0 = p['time']\n",
    "    plt.plot((p['time'] - t0) + np.arange(n) * p['dt'],\n",
    "             p['data'][:n] / p['dt'],\n",
    "             linestyle='steps-mid',\n",
    "             **kwargs)\n",
    "    plt.xlabel(\"Time (ns)\")\n",
    "    plt.ylabel(\"Sum waveform (PE / ns)\")\n",
    "\n",
    "plot_peak(peaks[5])"
   ]
  },
  {
   "cell_type": "code",
   "execution_count": null,
   "metadata": {
    "collapsed": false,
    "jupyter": {
     "outputs_hidden": false
    }
   },
   "outputs": [],
   "source": [
    "def plot_peaks(main_i, n_before=0, n_after=0, label_threshold=1000):\n",
    "    for i in main_i + np.arange(-n_before, n_after + 1):\n",
    "        p = peaks[i]\n",
    "        label = None\n",
    "        if p['area'] > label_threshold:\n",
    "            label = '%.1f PE, %d ns dt' % (p['area'], p['dt'], )\n",
    "        plot_peak(p,\n",
    "                  t0=peaks[main_i]['time'],\n",
    "                  label=label)\n",
    "    plt.ylim(0, None)\n",
    "    plt.legend(loc='upper right')\n",
    "    plt.yscale('symlog')\n",
    "\n",
    "plot_peaks(1000, n_after=5, n_before=5)"
   ]
  },
  {
   "cell_type": "code",
   "execution_count": null,
   "metadata": {
    "collapsed": true,
    "jupyter": {
     "outputs_hidden": true
    }
   },
   "outputs": [],
   "source": []
  }
 ],
 "metadata": {
  "kernelspec": {
   "display_name": "Python 3",
   "language": "python",
   "name": "python3"
  },
  "language_info": {
   "codemirror_mode": {
    "name": "ipython",
    "version": 3
   },
   "file_extension": ".py",
   "mimetype": "text/x-python",
   "name": "python",
   "nbconvert_exporter": "python",
   "pygments_lexer": "ipython3",
   "version": "3.6.8"
  }
 },
 "nbformat": 4,
 "nbformat_minor": 4
}
