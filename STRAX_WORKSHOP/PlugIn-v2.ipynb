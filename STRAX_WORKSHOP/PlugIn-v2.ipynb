{
 "cells": [
  {
   "cell_type": "code",
   "execution_count": 9,
   "metadata": {},
   "outputs": [],
   "source": [
    "import strax\n",
    "import pandas as pd\n",
    "pd.options.display.max_colwidth = 100\n",
    "from tqdm import tqdm\n",
    "import numpy as np\n",
    "import numba\n",
    "from scipy.optimize import curve_fit\n",
    "from scipy import stats\n",
    "import straxen\n",
    "st = straxen.contexts.strax_workshop_dali()"
   ]
  },
  {
   "cell_type": "code",
   "execution_count": 10,
   "metadata": {},
   "outputs": [],
   "source": [
    "#@export\n",
    "@strax.takes_config(\n",
    "    strax.Option(\n",
    "        'LED_window',\n",
    "        default=(125, 250),\n",
    "        help=\"Window (samples) where we expect signal in LED calibration\"))\n",
    "\n",
    "\n",
    "def get_amplitude(raw_records, windows):  \n",
    "    on = []\n",
    "    off = []\n",
    "    for r in raw_records:\n",
    "        amp_LED = np.max(r['data'][window[0]:window[1]])\n",
    "        amp_NOISE = np.max(r['data'][2*window[0]:2*window[1]])\n",
    "        on.append(amp_LED)\n",
    "        off.append(amp_NOISE)\n",
    "    on = np.array(on, dtype=[('amplitudeLED', '<i4')])\n",
    "    off = np.array(off, dtype=[('amplitudeNOISE', '<i4')])\n",
    "    return on, off\n",
    "\n",
    "def get_area(raw_records, windows):\n",
    "    left = window[0]\n",
    "    end_pos = [window[1]+2*i for i in range(6)]\n",
    "    n_channel_s = np.arange(0, 249, 1)\n",
    "    Area = np.array(raw_records[['channel', 'area']],dtype=[('channel','int16'),('area','float32')])\n",
    "\n",
    "    for n_channel in n_channel_s:\n",
    "        wf_tmp = raw_records[raw_records['channel'] == n_channel]\n",
    "        area = 0\n",
    "        for right in end_pos:\n",
    "            area += wf_tmp['data'][:,left:right].sum(axis=1)\n",
    "\n",
    "        mask = np.where(Area['channel'] == n_channel)[0]\n",
    "        Area['area'][mask] = area.astype(np.float)/6.\n",
    "\n",
    "    return Area\n",
    "\n",
    "    \n",
    "class LEDCalibration(strax.Plugin):\n",
    "    '''\n",
    "    Let's start with something really easy.\n",
    "    LEDCalibration gives -> look dtype\n",
    "    '''   \n",
    "    __version__ = '0.0.4'\n",
    "\n",
    "    depends_on = ('raw_records',)\n",
    "    data_kind = 'led_cal_0'\n",
    "    compressor = 'zstd'\n",
    "    parallel = 'process'\n",
    "    rechunk_on_save = False\n",
    "    dtype = [('area', np.int32, 'Area'),\n",
    "             ('amplitudeLED', np.int32, 'Amplitude in LED window'),\n",
    "             ('amplitudeNOISE', np.int32, 'Amplitude in off LED window'),\n",
    "             ('channel', np.int16, 'Channel'),\n",
    "             ('time', np.int64, 'Start time of the interval (ns since unix epoch)'),\n",
    "             ('dt', np.int16, 'Time resolution in ns'),\n",
    "             ('length', np.int32, 'Length of the interval in samples')\n",
    "            ]\n",
    "\n",
    "    def compute(self, raw_records):\n",
    "        # Remove records from funny channels (if present)\n",
    "        r = raw_records[raw_records['channel'] < 248] # hardcoded for now\n",
    "        temp = np.zeros(len(r), dtype=self.dtype)\n",
    "        \n",
    "        temp['channel'] = r['channel']\n",
    "        temp['time'] = r['time']\n",
    "        temp['dt'] = r['dt']\n",
    "        temp['length'] = r['length']\n",
    "        \n",
    "        #info, window = get_LED_window(r)\n",
    "        #print(window)\n",
    "        on, off = get_amplitude(r, self.config['LED_window'])\n",
    "        temp['amplitudeLED'] = on\n",
    "        temp['amplitudeNOISE'] = off\n",
    "        area = get_area(r, self.config['LED_window'])\n",
    "        print(area['channel'] == r['channel'])\n",
    "        temp['area'] = area['area']\n",
    "        \n",
    "        return temp"
   ]
  },
  {
   "cell_type": "code",
   "execution_count": 11,
   "metadata": {},
   "outputs": [
    {
     "data": {
      "text/html": [
       "<div>\n",
       "<style scoped>\n",
       "    .dataframe tbody tr th:only-of-type {\n",
       "        vertical-align: middle;\n",
       "    }\n",
       "\n",
       "    .dataframe tbody tr th {\n",
       "        vertical-align: top;\n",
       "    }\n",
       "\n",
       "    .dataframe thead th {\n",
       "        text-align: right;\n",
       "    }\n",
       "</style>\n",
       "<table border=\"1\" class=\"dataframe\">\n",
       "  <thead>\n",
       "    <tr style=\"text-align: right;\">\n",
       "      <th></th>\n",
       "      <th>Field name</th>\n",
       "      <th>Data type</th>\n",
       "      <th>Comment</th>\n",
       "    </tr>\n",
       "  </thead>\n",
       "  <tbody>\n",
       "    <tr>\n",
       "      <th>0</th>\n",
       "      <td>area</td>\n",
       "      <td>int32</td>\n",
       "      <td>Area</td>\n",
       "    </tr>\n",
       "    <tr>\n",
       "      <th>1</th>\n",
       "      <td>amplitudeLED</td>\n",
       "      <td>int32</td>\n",
       "      <td>Amplitude in LED window</td>\n",
       "    </tr>\n",
       "    <tr>\n",
       "      <th>2</th>\n",
       "      <td>amplitudeNOISE</td>\n",
       "      <td>int32</td>\n",
       "      <td>Amplitude in off LED window</td>\n",
       "    </tr>\n",
       "    <tr>\n",
       "      <th>3</th>\n",
       "      <td>channel</td>\n",
       "      <td>int16</td>\n",
       "      <td>Channel</td>\n",
       "    </tr>\n",
       "    <tr>\n",
       "      <th>4</th>\n",
       "      <td>time</td>\n",
       "      <td>int64</td>\n",
       "      <td>Start time of the interval (ns since unix epoch)</td>\n",
       "    </tr>\n",
       "    <tr>\n",
       "      <th>5</th>\n",
       "      <td>dt</td>\n",
       "      <td>int16</td>\n",
       "      <td>Time resolution in ns</td>\n",
       "    </tr>\n",
       "    <tr>\n",
       "      <th>6</th>\n",
       "      <td>length</td>\n",
       "      <td>int32</td>\n",
       "      <td>Length of the interval in samples</td>\n",
       "    </tr>\n",
       "  </tbody>\n",
       "</table>\n",
       "</div>"
      ],
      "text/plain": [
       "       Field name Data type                                           Comment\n",
       "0            area     int32                                              Area\n",
       "1    amplitudeLED     int32                           Amplitude in LED window\n",
       "2  amplitudeNOISE     int32                       Amplitude in off LED window\n",
       "3         channel     int16                                           Channel\n",
       "4            time     int64  Start time of the interval (ns since unix epoch)\n",
       "5              dt     int16                             Time resolution in ns\n",
       "6          length     int32                 Length of the interval in samples"
      ]
     },
     "execution_count": 11,
     "metadata": {},
     "output_type": "execute_result"
    }
   ],
   "source": [
    "st = straxen.contexts.strax_workshop_dali()\n",
    "st.register(LEDCalibration)\n",
    "st.data_info('led_calibration')"
   ]
  },
  {
   "cell_type": "code",
   "execution_count": 12,
   "metadata": {},
   "outputs": [
    {
     "data": {
      "text/html": [
       "<div>\n",
       "<style scoped>\n",
       "    .dataframe tbody tr th:only-of-type {\n",
       "        vertical-align: middle;\n",
       "    }\n",
       "\n",
       "    .dataframe tbody tr th {\n",
       "        vertical-align: top;\n",
       "    }\n",
       "\n",
       "    .dataframe thead th {\n",
       "        text-align: right;\n",
       "    }\n",
       "</style>\n",
       "<table border=\"1\" class=\"dataframe\">\n",
       "  <thead>\n",
       "    <tr style=\"text-align: right;\">\n",
       "      <th></th>\n",
       "    </tr>\n",
       "  </thead>\n",
       "  <tbody>\n",
       "  </tbody>\n",
       "</table>\n",
       "</div>"
      ],
      "text/plain": [
       "Empty DataFrame\n",
       "Columns: []\n",
       "Index: []"
      ]
     },
     "execution_count": 12,
     "metadata": {},
     "output_type": "execute_result"
    }
   ],
   "source": [
    "st.show_config('led_calibration', 'LED*')"
   ]
  },
  {
   "cell_type": "raw",
   "metadata": {},
   "source": [
    "st_2 = ctext.new_context(config=dict(LED_window = [0,1]))"
   ]
  },
  {
   "cell_type": "raw",
   "metadata": {},
   "source": [
    "st_2.show_config('led_calibration', 'LED*')"
   ]
  },
  {
   "cell_type": "code",
   "execution_count": null,
   "metadata": {},
   "outputs": [],
   "source": []
  }
 ],
 "metadata": {
  "kernelspec": {
   "display_name": "Python 3",
   "language": "python",
   "name": "python3"
  },
  "language_info": {
   "codemirror_mode": {
    "name": "ipython",
    "version": 3
   },
   "file_extension": ".py",
   "mimetype": "text/x-python",
   "name": "python",
   "nbconvert_exporter": "python",
   "pygments_lexer": "ipython3",
   "version": "3.6.8"
  }
 },
 "nbformat": 4,
 "nbformat_minor": 2
}
