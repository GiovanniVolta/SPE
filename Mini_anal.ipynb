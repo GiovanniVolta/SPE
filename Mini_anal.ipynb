{
 "cells": [
  {
   "cell_type": "code",
   "execution_count": null,
   "metadata": {},
   "outputs": [],
   "source": [
    "#%run '/home/gvolta/Desktop/Tutorial/STRAX/PlugIn-v2.ipynb'"
   ]
  },
  {
   "cell_type": "markdown",
   "metadata": {},
   "source": [
    "### Plug-In definition"
   ]
  },
  {
   "cell_type": "code",
   "execution_count": 1,
   "metadata": {},
   "outputs": [],
   "source": [
    "import strax\n",
    "import pandas as pd\n",
    "pd.options.display.max_colwidth = 100\n",
    "from tqdm import tqdm\n",
    "import numpy as np\n",
    "import numba\n",
    "from scipy.optimize import curve_fit\n",
    "from scipy import stats\n",
    "import straxen\n",
    "st = straxen.contexts.strax_workshop_dali()"
   ]
  },
  {
   "cell_type": "code",
   "execution_count": 2,
   "metadata": {},
   "outputs": [],
   "source": [
    "#@export\n",
    "@strax.takes_config(\n",
    "    strax.Option(\n",
    "        'LED_window',\n",
    "        default=(125, 250),\n",
    "        help=\"Window (samples) where we expect signal in LED calibration\"))\n",
    "\n",
    "\n",
    "def get_amplitude(raw_records, windows):  \n",
    "    on = []\n",
    "    off = []\n",
    "    for r in raw_records:\n",
    "        amp_LED = np.max(r['data'][window[0]:window[1]])\n",
    "        amp_NOISE = np.max(r['data'][2*window[0]:2*window[1]])\n",
    "        on.append(amp_LED)\n",
    "        off.append(amp_NOISE)\n",
    "    on = np.array(on, dtype=[('amplitudeLED', '<i4')])\n",
    "    off = np.array(off, dtype=[('amplitudeNOISE', '<i4')])\n",
    "    return on, off\n",
    "\n",
    "def get_area(raw_records, windows):\n",
    "    left = window[0]\n",
    "    end_pos = [window[1]+2*i for i in range(6)]\n",
    "    n_channel_s = np.arange(0, 249, 1)\n",
    "    Area = np.array(raw_records[['channel', 'area']],dtype=[('channel','int16'),('area','float32')])\n",
    "\n",
    "    for n_channel in n_channel_s:\n",
    "        wf_tmp = raw_records[raw_records['channel'] == n_channel]\n",
    "        area = 0\n",
    "        for right in end_pos:\n",
    "            area += wf_tmp['data'][:,left:right].sum(axis=1)\n",
    "\n",
    "        mask = np.where(Area['channel'] == n_channel)[0]\n",
    "        Area['area'][mask] = area.astype(np.float)/6.\n",
    "\n",
    "    return Area\n",
    "\n",
    "    \n",
    "class LEDCalibration(strax.Plugin):\n",
    "    '''\n",
    "    Let's start with something really easy.\n",
    "    LEDCalibration gives -> look dtype\n",
    "    '''   \n",
    "    __version__ = '0.0.4'\n",
    "\n",
    "    depends_on = ('raw_records',)\n",
    "    data_kind = 'led_cal_0'\n",
    "    compressor = 'zstd'\n",
    "    parallel = 'process'\n",
    "    rechunk_on_save = False\n",
    "    dtype = [('area', np.int32, 'Area'),\n",
    "             ('amplitudeLED', np.int32, 'Amplitude in LED window'),\n",
    "             ('amplitudeNOISE', np.int32, 'Amplitude in off LED window'),\n",
    "             ('channel', np.int16, 'Channel'),\n",
    "             ('time', np.int64, 'Start time of the interval (ns since unix epoch)'),\n",
    "             ('dt', np.int16, 'Time resolution in ns'),\n",
    "             ('length', np.int32, 'Length of the interval in samples')\n",
    "            ]\n",
    "\n",
    "    def compute(self, raw_records):\n",
    "        # Remove records from funny channels (if present)\n",
    "        r = raw_records[raw_records['channel'] < 248] # hardcoded for now\n",
    "        temp = np.zeros(len(r), dtype=self.dtype)\n",
    "        \n",
    "        temp['channel'] = r['channel']\n",
    "        temp['time'] = r['time']\n",
    "        temp['dt'] = r['dt']\n",
    "        temp['length'] = r['length']\n",
    "        \n",
    "        #info, window = get_LED_window(r)\n",
    "        #print(window)\n",
    "        on, off = get_amplitude(r, self.config['LED_window'])\n",
    "        temp['amplitudeLED'] = on\n",
    "        temp['amplitudeNOISE'] = off\n",
    "        area = get_area(r, self.config['LED_window'])\n",
    "        print(area['channel'] == r['channel'])\n",
    "        temp['area'] = area['area']\n",
    "        \n",
    "        return temp"
   ]
  },
  {
   "cell_type": "code",
   "execution_count": 3,
   "metadata": {},
   "outputs": [
    {
     "data": {
      "text/html": [
       "<div>\n",
       "<style scoped>\n",
       "    .dataframe tbody tr th:only-of-type {\n",
       "        vertical-align: middle;\n",
       "    }\n",
       "\n",
       "    .dataframe tbody tr th {\n",
       "        vertical-align: top;\n",
       "    }\n",
       "\n",
       "    .dataframe thead th {\n",
       "        text-align: right;\n",
       "    }\n",
       "</style>\n",
       "<table border=\"1\" class=\"dataframe\">\n",
       "  <thead>\n",
       "    <tr style=\"text-align: right;\">\n",
       "      <th></th>\n",
       "      <th>Field name</th>\n",
       "      <th>Data type</th>\n",
       "      <th>Comment</th>\n",
       "    </tr>\n",
       "  </thead>\n",
       "  <tbody>\n",
       "    <tr>\n",
       "      <th>0</th>\n",
       "      <td>area</td>\n",
       "      <td>int32</td>\n",
       "      <td>Area</td>\n",
       "    </tr>\n",
       "    <tr>\n",
       "      <th>1</th>\n",
       "      <td>amplitudeLED</td>\n",
       "      <td>int32</td>\n",
       "      <td>Amplitude in LED window</td>\n",
       "    </tr>\n",
       "    <tr>\n",
       "      <th>2</th>\n",
       "      <td>amplitudeNOISE</td>\n",
       "      <td>int32</td>\n",
       "      <td>Amplitude in off LED window</td>\n",
       "    </tr>\n",
       "    <tr>\n",
       "      <th>3</th>\n",
       "      <td>channel</td>\n",
       "      <td>int16</td>\n",
       "      <td>Channel</td>\n",
       "    </tr>\n",
       "    <tr>\n",
       "      <th>4</th>\n",
       "      <td>time</td>\n",
       "      <td>int64</td>\n",
       "      <td>Start time of the interval (ns since unix epoch)</td>\n",
       "    </tr>\n",
       "    <tr>\n",
       "      <th>5</th>\n",
       "      <td>dt</td>\n",
       "      <td>int16</td>\n",
       "      <td>Time resolution in ns</td>\n",
       "    </tr>\n",
       "    <tr>\n",
       "      <th>6</th>\n",
       "      <td>length</td>\n",
       "      <td>int32</td>\n",
       "      <td>Length of the interval in samples</td>\n",
       "    </tr>\n",
       "  </tbody>\n",
       "</table>\n",
       "</div>"
      ],
      "text/plain": [
       "       Field name Data type                                           Comment\n",
       "0            area     int32                                              Area\n",
       "1    amplitudeLED     int32                           Amplitude in LED window\n",
       "2  amplitudeNOISE     int32                       Amplitude in off LED window\n",
       "3         channel     int16                                           Channel\n",
       "4            time     int64  Start time of the interval (ns since unix epoch)\n",
       "5              dt     int16                             Time resolution in ns\n",
       "6          length     int32                 Length of the interval in samples"
      ]
     },
     "execution_count": 3,
     "metadata": {},
     "output_type": "execute_result"
    }
   ],
   "source": [
    "st.register(LEDCalibration)\n",
    "st.data_info('led_calibration')"
   ]
  },
  {
   "cell_type": "markdown",
   "metadata": {},
   "source": [
    "### Normal code"
   ]
  },
  {
   "cell_type": "code",
   "execution_count": 4,
   "metadata": {},
   "outputs": [
    {
     "name": "stderr",
     "output_type": "stream",
     "text": [
      "Checking data availability: 100%|██████████| 5/5 [00:11<00:00,  2.24s/it]\n"
     ]
    }
   ],
   "source": [
    "runs = st.select_runs(run_mode='LED*')"
   ]
  },
  {
   "cell_type": "code",
   "execution_count": 5,
   "metadata": {},
   "outputs": [],
   "source": [
    "run_id = '180219_1011'\n",
    "df = st.get_array(run_id, 'raw_records', seconds_range=(0,20))"
   ]
  },
  {
   "cell_type": "code",
   "execution_count": 6,
   "metadata": {},
   "outputs": [],
   "source": [
    "def gaus(x, a, mu, sig, const):\n",
    "    return a*np.exp(-0.5*(x-mu)**2/sig**2)+const\n",
    "\n",
    "def get_LED_window(raw_records):\n",
    "    \n",
    "    info = {'mean': [ ], 'sig': [ ], 'Norm': [ ], 'Const': [ ], 'pmt': [ ]}\n",
    "    d2 = pd.DataFrame({'channel': [ ], 'idx_LED': [ ]}) \n",
    "    n_channel_s = np.arange(0, 249, 1)\n",
    "    pmts_rejected = [ ]\n",
    "    x = np.arange(0,len(raw_records['data']),1)\n",
    "\n",
    "    for n_channel in tqdm(n_channel_s):\n",
    "    #for n_channel in n_channel_s:\n",
    "                #if n_channel in pmts_rejected:\n",
    "                 #     continue   \n",
    "                wf_tmp = raw_records[raw_records['channel'] == n_channel]\n",
    "                amp_wf = [ ]\n",
    "                idx_amp_wf = [ ]\n",
    "                for wf_ in wf_tmp:\n",
    "                    amp_wf.append(np.max(wf_['data']))\n",
    "                    idx_amp_wf.append(np.argmax(wf_['data']))\n",
    "                    \n",
    "                amp_wf = np.array(amp_wf)\n",
    "                idx_amp_wf = np.array(idx_amp_wf)\n",
    "\n",
    "                hist, xbins = np.histogram(amp_wf, bins=100, range=(0,200))\n",
    "                xbins_center = np.array([0.5*(xbins[i]+xbins[i+1]) for i in range(len(xbins)-1)])\n",
    "\n",
    "                mask = (xbins_center > 30) & (xbins_center < 200)\n",
    "                popt, pcov = curve_fit(gaus, xbins_center[mask], hist[mask], p0=[10, 60, 20, 0], maxfev=int(1e6))\n",
    "\n",
    "                N, mean, sig, c = popt[0], popt[1], popt[2], popt[3]\n",
    "\n",
    "                info['mean'].append(popt[1])\n",
    "                info['sig'].append(popt[2])\n",
    "                info['Norm'].append(popt[0])\n",
    "                info['Const'].append(popt[3])\n",
    "                info['pmt'].append(n_channel)\n",
    "\n",
    "                d1 = pd.DataFrame({'channel': [ ], 'idx_LED': [ ]})\n",
    "                mask = (amp_wf < mean + sig) & (amp_wf > mean - sig)\n",
    "                idx_LED = idx_amp_wf[mask]\n",
    "                if len(idx_LED)==0:\n",
    "                    d1['channel'] = n_channel\n",
    "                    d1['idx_LED'] = np.nan\n",
    "                else:\n",
    "                    d1['idx_LED'] = idx_LED\n",
    "                    d1['channel'] = np.ones_like(idx_LED) * n_channel\n",
    "                    \n",
    "                d2 = d2.append(d1, ignore_index=True)\n",
    "                del d1, idx_amp_wf, idx_LED, amp_wf\n",
    "                  \n",
    "    mean = d2['idx_LED'].mean()\n",
    "    std = d2['idx_LED'].std()\n",
    "    window = [int(mean-0.5*std),int(mean+0.5*std)]\n",
    "    return info, window"
   ]
  },
  {
   "cell_type": "code",
   "execution_count": 7,
   "metadata": {},
   "outputs": [
    {
     "name": "stderr",
     "output_type": "stream",
     "text": [
      " 15%|█▍        | 37/249 [00:08<01:30,  2.35it/s]/dali/lgrandi/strax/miniconda3/envs/strax/lib/python3.6/site-packages/scipy/optimize/minpack.py:799: OptimizeWarning: Covariance of the parameters could not be estimated\n",
      "  category=OptimizeWarning)\n",
      "100%|██████████| 249/249 [00:35<00:00, 10.25it/s]\n"
     ]
    }
   ],
   "source": [
    "info, window = get_LED_window(df)"
   ]
  },
  {
   "cell_type": "code",
   "execution_count": 8,
   "metadata": {},
   "outputs": [
    {
     "data": {
      "text/html": [
       "<div>\n",
       "<style scoped>\n",
       "    .dataframe tbody tr th:only-of-type {\n",
       "        vertical-align: middle;\n",
       "    }\n",
       "\n",
       "    .dataframe tbody tr th {\n",
       "        vertical-align: top;\n",
       "    }\n",
       "\n",
       "    .dataframe thead th {\n",
       "        text-align: right;\n",
       "    }\n",
       "</style>\n",
       "<table border=\"1\" class=\"dataframe\">\n",
       "  <thead>\n",
       "    <tr style=\"text-align: right;\">\n",
       "      <th></th>\n",
       "    </tr>\n",
       "  </thead>\n",
       "  <tbody>\n",
       "  </tbody>\n",
       "</table>\n",
       "</div>"
      ],
      "text/plain": [
       "Empty DataFrame\n",
       "Columns: []\n",
       "Index: []"
      ]
     },
     "execution_count": 8,
     "metadata": {},
     "output_type": "execute_result"
    }
   ],
   "source": [
    "st.show_config('led_calibration', 'LED*')"
   ]
  },
  {
   "cell_type": "code",
   "execution_count": null,
   "metadata": {},
   "outputs": [],
   "source": [
    "st_2 = st.new_context(config=dict(LED_window = window))\n",
    "st_2.show_config('led_calibration', 'LED*')"
   ]
  },
  {
   "cell_type": "code",
   "execution_count": null,
   "metadata": {},
   "outputs": [],
   "source": [
    "data = st.get_array(run_id, 'led_calibration')"
   ]
  },
  {
   "cell_type": "code",
   "execution_count": null,
   "metadata": {},
   "outputs": [],
   "source": []
  }
 ],
 "metadata": {
  "kernelspec": {
   "display_name": "Python 3",
   "language": "python",
   "name": "python3"
  },
  "language_info": {
   "codemirror_mode": {
    "name": "ipython",
    "version": 3
   },
   "file_extension": ".py",
   "mimetype": "text/x-python",
   "name": "python",
   "nbconvert_exporter": "python",
   "pygments_lexer": "ipython3",
   "version": "3.6.8"
  }
 },
 "nbformat": 4,
 "nbformat_minor": 2
}
